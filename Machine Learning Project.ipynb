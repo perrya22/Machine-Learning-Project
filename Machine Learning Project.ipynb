{
 "cells": [
  {
   "cell_type": "markdown",
   "id": "c0acfb43",
   "metadata": {},
   "source": [
    "# Boston Housing Machine Learning Analysis"
   ]
  },
  {
   "cell_type": "markdown",
   "id": "1c3c110b",
   "metadata": {},
   "source": [
    "### Executive Summary"
   ]
  },
  {
   "cell_type": "markdown",
   "id": "95560314",
   "metadata": {},
   "source": [
    "Housing prices in recent years have blown up to great proportions. Attempting to predict what affects the prices now would be challenging, but seeing what affected it before can lead to some useful insight about today's prices. \n",
    "\n",
    "The Boston Housing data published by Harrison, D. and Rubinfeld, D.L. **Hedonic prices and the demand for clean air'**, J. Environ. Economics & Management from 1978 was used. \n",
    "\n",
    "Multiple machine learning techniques were utilized in order to provide the best model to predict the response variable MEDV, the median value of owner-occupied homes.\n",
    "\n",
    "With the use of regression subset method, we analyzed the best regression model for five parameters. These were NOX, RM, DIS, PTRATIO, and LSTAT. The residual plot showed that the model had some curvature to it, and the Q-Q plot showed the observations mostly along the diagonal line -- the ideal trend. There is likely evidence that a certain parameter or parameters should be of a higher order given the results of the residual plot. \n",
    "\n",
    "By using the k-nearest neighbors method and using average number of dwellings to predict the price, it's shown that the ideal hyperparameter to predict the response variable is when k is equal to 43. This produces the lowest RMSE value, the desired value, since a lower RMSE means lower variation in error. This results in better predictions for out of sample data. The plot for this analytical method is included."
   ]
  },
  {
   "cell_type": "markdown",
   "id": "9e6816fa",
   "metadata": {},
   "source": [
    "### Methodology"
   ]
  },
  {
   "cell_type": "markdown",
   "id": "0da6d2a9",
   "metadata": {},
   "source": [
    "This project includes two analyses; the first is about the usage of regression subsets, and the second is about the k-nearest neighbors method. \n",
    "\n",
    "In order to avoid a highly biased model, like one done though simple linear regression, multiple regression was performed. Instead of just using one variable to explain the response variable, multiple parameters are included. However, it is not good to have a model that is too complex. \n",
    "\n",
    "The regression subsets method will choose the best variables and create the best model for however many variables you wish to include. As you increase the number of variables, the R-squared value, the percent of the observations of the response variable MEDV explained by the other parameters, always increases. This is inevitable because the more variables added, the more fitted the data becomes. A model that fits too well is not ideal because the model we're creating wants to be able to accurately predict out-of-sample data. So, by plotting a graph of R-squared values vs number of parameters, and judging by where the value of it increases minimially, we can choose what we deem to be the best amount of parameters to include. Then, the regression subset method, using the leaps library in R, will allow us to examine the coefficients for these variable, thus allowing for the MEDV prediction equation to be created. By examining other plots, like the residual plot and the Q-Q plot, we can see how well the model works and can possibly look into ways to improve it.\n",
    "\n",
    "For the second analysis, the k-nearest neighbors machine learning technique was performed. The two variables we're interested in are RM, average number of rooms per dwelling, and MEDV, median value of owner-occupied homes in the $1000s, and seeing how RM affects MEDV. The goal is to tune the hyperparameter ***k***, which will influence the model most, such that the model is what we deem to be the best predictor for the response variable.\n",
    "\n",
    "The value of ***k*** shows the ***k*** amount of observations around a specific value ***RM***. Then, the average ***MEDV*** of those observations becomes the predicted value for the specific ***RM*** chosen. This is done for all possible ***RM*** values and gives us our prediction line. A ***k*** that is too small would be too flexible, and a ***k*** that is too large would be too simple -- a nearly constant line since a large amount of the nearest neighbors are included. This leads to some of the data having a very similar value, hence the near constant prediction line. To find the optimal value of ***k***, we examine the root mean squared error (RMSE) for all ***k*** values that we decide to include. Then, we choose the ***k*** that corresponds to the lowest RMSE value.\n",
    "\n",
    "For this method, training data and testing data are required. Because testing data -- out of sample data that we use our training data on -- is not feasible to include, we will have to split the data we have into two parts. Three quarters of the data will be used as traning data, and the remaining quarter will be testing data. We're interested in the value of the RMSE outside the training data. The training data is necessary since it will influence the testing data's results."
   ]
  },
  {
   "cell_type": "markdown",
   "id": "ac539026",
   "metadata": {},
   "source": [
    "### Data"
   ]
  },
  {
   "cell_type": "markdown",
   "id": "b76c50d8",
   "metadata": {},
   "source": [
    "The data was obtained via Kaggle. It is titled **Boston House Prices-Advanced Regression Techniques** by user Fedesoriano. The variables and their descriptions are as follows:\n",
    "\n",
    "- **CRIM:** per capita crime rate by town\n",
    "- **ZN:** proportion of residential land zoned for lots over 25,000 sq.ft.\n",
    "- **INDUS:** proportion of non-retail business acres per town\n",
    "- **CHAS:** Charles River dummy variable (1 if tract bounds river; 0 otherwise)\n",
    "- **NOX:** nitric oxides concentration (parts per 10 million) [parts/10M]\n",
    "- **RM:** average number of rooms per dwelling\n",
    "- **AGE:** proportion of owner-occupied units built prior to 1940\n",
    "- **DIS:** weighted distances to five Boston employment centres\n",
    "- **RAD:** index of accessibility to radial highways\n",
    "- **TAX:** full-value property-tax rate per $10,000 [$/10k]\n",
    "- **PTRATIO:** pupil-teacher ratio by town\n",
    "- **B:** The result of the equation B=1000(Bk - 0.63)^2 where Bk is the proportion of blacks by town\n",
    "- **LSTAT:** % lower status of the population\n",
    "- **MEDV** - Median value of owner-occupied homes in $1000's\n",
    "\n",
    "The dependent variable of interest is MEDV for both analyses."
   ]
  },
  {
   "cell_type": "markdown",
   "id": "385c7614",
   "metadata": {},
   "source": [
    "### Process and Results"
   ]
  },
  {
   "cell_type": "markdown",
   "id": "afdb95cd",
   "metadata": {},
   "source": [
    "#### Regression Subset Method"
   ]
  },
  {
   "cell_type": "markdown",
   "id": "e6aa779f",
   "metadata": {},
   "source": [
    "We would like to first load in the Boston Housing dataset. Only the first few observations are loaded to see if dataframe and variables are what we expect to find."
   ]
  },
  {
   "cell_type": "code",
   "execution_count": 1,
   "id": "f220b15f",
   "metadata": {
    "scrolled": false
   },
   "outputs": [
    {
     "data": {
      "text/html": [
       "<table>\n",
       "<thead><tr><th scope=col>CRIM</th><th scope=col>ZN</th><th scope=col>INDUS</th><th scope=col>CHAS</th><th scope=col>NOX</th><th scope=col>RM</th><th scope=col>AGE</th><th scope=col>DIS</th><th scope=col>RAD</th><th scope=col>TAX</th><th scope=col>PTRATIO</th><th scope=col>B</th><th scope=col>LSTAT</th><th scope=col>MEDV</th></tr></thead>\n",
       "<tbody>\n",
       "\t<tr><td>0.00632</td><td>18     </td><td>2.31   </td><td>0      </td><td>0.538  </td><td>6.575  </td><td>65.2   </td><td>4.0900 </td><td>1      </td><td>296    </td><td>15.3   </td><td>396.90 </td><td>4.98   </td><td>24.0   </td></tr>\n",
       "\t<tr><td>0.02731</td><td> 0     </td><td>7.07   </td><td>0      </td><td>0.469  </td><td>6.421  </td><td>78.9   </td><td>4.9671 </td><td>2      </td><td>242    </td><td>17.8   </td><td>396.90 </td><td>9.14   </td><td>21.6   </td></tr>\n",
       "\t<tr><td>0.02729</td><td> 0     </td><td>7.07   </td><td>0      </td><td>0.469  </td><td>7.185  </td><td>61.1   </td><td>4.9671 </td><td>2      </td><td>242    </td><td>17.8   </td><td>392.83 </td><td>4.03   </td><td>34.7   </td></tr>\n",
       "\t<tr><td>0.03237</td><td> 0     </td><td>2.18   </td><td>0      </td><td>0.458  </td><td>6.998  </td><td>45.8   </td><td>6.0622 </td><td>3      </td><td>222    </td><td>18.7   </td><td>394.63 </td><td>2.94   </td><td>33.4   </td></tr>\n",
       "\t<tr><td>0.06905</td><td> 0     </td><td>2.18   </td><td>0      </td><td>0.458  </td><td>7.147  </td><td>54.2   </td><td>6.0622 </td><td>3      </td><td>222    </td><td>18.7   </td><td>396.90 </td><td>5.33   </td><td>36.2   </td></tr>\n",
       "\t<tr><td>0.02985</td><td> 0     </td><td>2.18   </td><td>0      </td><td>0.458  </td><td>6.430  </td><td>58.7   </td><td>6.0622 </td><td>3      </td><td>222    </td><td>18.7   </td><td>394.12 </td><td>5.21   </td><td>28.7   </td></tr>\n",
       "</tbody>\n",
       "</table>\n"
      ],
      "text/latex": [
       "\\begin{tabular}{r|llllllllllllll}\n",
       " CRIM & ZN & INDUS & CHAS & NOX & RM & AGE & DIS & RAD & TAX & PTRATIO & B & LSTAT & MEDV\\\\\n",
       "\\hline\n",
       "\t 0.00632 & 18      & 2.31    & 0       & 0.538   & 6.575   & 65.2    & 4.0900  & 1       & 296     & 15.3    & 396.90  & 4.98    & 24.0   \\\\\n",
       "\t 0.02731 &  0      & 7.07    & 0       & 0.469   & 6.421   & 78.9    & 4.9671  & 2       & 242     & 17.8    & 396.90  & 9.14    & 21.6   \\\\\n",
       "\t 0.02729 &  0      & 7.07    & 0       & 0.469   & 7.185   & 61.1    & 4.9671  & 2       & 242     & 17.8    & 392.83  & 4.03    & 34.7   \\\\\n",
       "\t 0.03237 &  0      & 2.18    & 0       & 0.458   & 6.998   & 45.8    & 6.0622  & 3       & 222     & 18.7    & 394.63  & 2.94    & 33.4   \\\\\n",
       "\t 0.06905 &  0      & 2.18    & 0       & 0.458   & 7.147   & 54.2    & 6.0622  & 3       & 222     & 18.7    & 396.90  & 5.33    & 36.2   \\\\\n",
       "\t 0.02985 &  0      & 2.18    & 0       & 0.458   & 6.430   & 58.7    & 6.0622  & 3       & 222     & 18.7    & 394.12  & 5.21    & 28.7   \\\\\n",
       "\\end{tabular}\n"
      ],
      "text/markdown": [
       "\n",
       "| CRIM | ZN | INDUS | CHAS | NOX | RM | AGE | DIS | RAD | TAX | PTRATIO | B | LSTAT | MEDV |\n",
       "|---|---|---|---|---|---|---|---|---|---|---|---|---|---|\n",
       "| 0.00632 | 18      | 2.31    | 0       | 0.538   | 6.575   | 65.2    | 4.0900  | 1       | 296     | 15.3    | 396.90  | 4.98    | 24.0    |\n",
       "| 0.02731 |  0      | 7.07    | 0       | 0.469   | 6.421   | 78.9    | 4.9671  | 2       | 242     | 17.8    | 396.90  | 9.14    | 21.6    |\n",
       "| 0.02729 |  0      | 7.07    | 0       | 0.469   | 7.185   | 61.1    | 4.9671  | 2       | 242     | 17.8    | 392.83  | 4.03    | 34.7    |\n",
       "| 0.03237 |  0      | 2.18    | 0       | 0.458   | 6.998   | 45.8    | 6.0622  | 3       | 222     | 18.7    | 394.63  | 2.94    | 33.4    |\n",
       "| 0.06905 |  0      | 2.18    | 0       | 0.458   | 7.147   | 54.2    | 6.0622  | 3       | 222     | 18.7    | 396.90  | 5.33    | 36.2    |\n",
       "| 0.02985 |  0      | 2.18    | 0       | 0.458   | 6.430   | 58.7    | 6.0622  | 3       | 222     | 18.7    | 394.12  | 5.21    | 28.7    |\n",
       "\n"
      ],
      "text/plain": [
       "  CRIM    ZN INDUS CHAS NOX   RM    AGE  DIS    RAD TAX PTRATIO B      LSTAT\n",
       "1 0.00632 18 2.31  0    0.538 6.575 65.2 4.0900 1   296 15.3    396.90 4.98 \n",
       "2 0.02731  0 7.07  0    0.469 6.421 78.9 4.9671 2   242 17.8    396.90 9.14 \n",
       "3 0.02729  0 7.07  0    0.469 7.185 61.1 4.9671 2   242 17.8    392.83 4.03 \n",
       "4 0.03237  0 2.18  0    0.458 6.998 45.8 6.0622 3   222 18.7    394.63 2.94 \n",
       "5 0.06905  0 2.18  0    0.458 7.147 54.2 6.0622 3   222 18.7    396.90 5.33 \n",
       "6 0.02985  0 2.18  0    0.458 6.430 58.7 6.0622 3   222 18.7    394.12 5.21 \n",
       "  MEDV\n",
       "1 24.0\n",
       "2 21.6\n",
       "3 34.7\n",
       "4 33.4\n",
       "5 36.2\n",
       "6 28.7"
      ]
     },
     "metadata": {},
     "output_type": "display_data"
    }
   ],
   "source": [
    "house = read.csv('C:/Users/andre/Downloads/boston.csv')\n",
    "\n",
    "#Loading in the first few rows \n",
    "head(house)"
   ]
  },
  {
   "cell_type": "markdown",
   "id": "1f267d4b",
   "metadata": {},
   "source": [
    "The following is to check for any NA values. This could result in errors when trying to perform data calculations, so we must take these values out immediately."
   ]
  },
  {
   "cell_type": "code",
   "execution_count": 2,
   "id": "fa77f127",
   "metadata": {},
   "outputs": [
    {
     "data": {
      "text/html": [
       "0"
      ],
      "text/latex": [
       "0"
      ],
      "text/markdown": [
       "0"
      ],
      "text/plain": [
       "[1] 0"
      ]
     },
     "metadata": {},
     "output_type": "display_data"
    },
    {
     "data": {
      "text/html": [
       "<ol class=list-inline>\n",
       "\t<li>506</li>\n",
       "\t<li>14</li>\n",
       "</ol>\n"
      ],
      "text/latex": [
       "\\begin{enumerate*}\n",
       "\\item 506\n",
       "\\item 14\n",
       "\\end{enumerate*}\n"
      ],
      "text/markdown": [
       "1. 506\n",
       "2. 14\n",
       "\n",
       "\n"
      ],
      "text/plain": [
       "[1] 506  14"
      ]
     },
     "metadata": {},
     "output_type": "display_data"
    }
   ],
   "source": [
    "sum(is.na(house))\n",
    "#no NA values, but if there was we'd use \"hosue = na.omit(house)\"\"\n",
    "\n",
    "dim(house)\n",
    "#14 total parameters"
   ]
  },
  {
   "cell_type": "markdown",
   "id": "6e05edca",
   "metadata": {},
   "source": [
    "Notice how there are only 14 columns total. For the regression subset method, this would mean we would opt to use the strategy that corresponds to the small parameter ***p*** value; the method we are using checks all the combinations of variables that will produce the best regression, or multiple regression, model. \n",
    "\n",
    "We'll begin this process by loading the leaps library in order to use the regsubsets method."
   ]
  },
  {
   "cell_type": "code",
   "execution_count": 3,
   "id": "bd7429e5",
   "metadata": {},
   "outputs": [
    {
     "name": "stderr",
     "output_type": "stream",
     "text": [
      "Warning message:\n",
      "\"package 'leaps' was built under R version 3.6.3\""
     ]
    }
   ],
   "source": [
    "library(leaps) #Used for regsubsets method"
   ]
  },
  {
   "cell_type": "markdown",
   "id": "d58e4e47",
   "metadata": {},
   "source": [
    "We plan to use a model that is neither too biased nor has too much variance. \n",
    "\n",
    "A biased model is one in which there are too few parameters; while there might not be much variance when using it to predict out of sample data, the bias will be high. Simple linear regression is an example of this. However, implementing a model that is too complex will result in one that has too much variance when using it to fit out of sample data. Despite how accurate the model could be by looking at the R-squared value, this is misleading since it most likely will under or overestimate other data greatly. Therefore, we would like to aim for a model neither too biased nor has too much variance; somewhere in the middle is ideal.\n",
    "\n",
    "Since our ***p*** is small, we are using the exhaustive method. The following cells observe the R-squared values for the best models given the number of parameters."
   ]
  },
  {
   "cell_type": "code",
   "execution_count": 4,
   "id": "567032fa",
   "metadata": {
    "scrolled": true
   },
   "outputs": [
    {
     "data": {
      "text/html": [
       "<ol class=list-inline>\n",
       "\t<li>0.54414629758648</li>\n",
       "\t<li>0.638561606260341</li>\n",
       "\t<li>0.678624160161311</li>\n",
       "\t<li>0.690307701684254</li>\n",
       "\t<li>0.708089289352966</li>\n",
       "\t<li>0.715774211739608</li>\n",
       "\t<li>0.72216140252771</li>\n",
       "\t<li>0.726607858739603</li>\n",
       "\t<li>0.730170363931332</li>\n",
       "\t<li>0.735263147323182</li>\n",
       "\t<li>0.740582280256957</li>\n",
       "\t<li>0.740641216550514</li>\n",
       "\t<li>0.740642664109409</li>\n",
       "</ol>\n"
      ],
      "text/latex": [
       "\\begin{enumerate*}\n",
       "\\item 0.54414629758648\n",
       "\\item 0.638561606260341\n",
       "\\item 0.678624160161311\n",
       "\\item 0.690307701684254\n",
       "\\item 0.708089289352966\n",
       "\\item 0.715774211739608\n",
       "\\item 0.72216140252771\n",
       "\\item 0.726607858739603\n",
       "\\item 0.730170363931332\n",
       "\\item 0.735263147323182\n",
       "\\item 0.740582280256957\n",
       "\\item 0.740641216550514\n",
       "\\item 0.740642664109409\n",
       "\\end{enumerate*}\n"
      ],
      "text/markdown": [
       "1. 0.54414629758648\n",
       "2. 0.638561606260341\n",
       "3. 0.678624160161311\n",
       "4. 0.690307701684254\n",
       "5. 0.708089289352966\n",
       "6. 0.715774211739608\n",
       "7. 0.72216140252771\n",
       "8. 0.726607858739603\n",
       "9. 0.730170363931332\n",
       "10. 0.735263147323182\n",
       "11. 0.740582280256957\n",
       "12. 0.740641216550514\n",
       "13. 0.740642664109409\n",
       "\n",
       "\n"
      ],
      "text/plain": [
       " [1] 0.5441463 0.6385616 0.6786242 0.6903077 0.7080893 0.7157742 0.7221614\n",
       " [8] 0.7266079 0.7301704 0.7352631 0.7405823 0.7406412 0.7406427"
      ]
     },
     "metadata": {},
     "output_type": "display_data"
    }
   ],
   "source": [
    "#Trying to see what predictors best fit with the price of the house.\n",
    "#We go from 1 predictor to using all 13 predictors\n",
    "regfit.full = regsubsets(MEDV~., data=house, nbest=1, nvmax=13, method='exhaustive')\n",
    "full.summary = summary(regfit.full)\n",
    "\n",
    "#R-squared values for the best model given the specific number of parameters\n",
    "full.summary$rsq"
   ]
  },
  {
   "cell_type": "code",
   "execution_count": 5,
   "id": "780f3211",
   "metadata": {
    "scrolled": false
   },
   "outputs": [
    {
     "data": {
      "image/png": "[encoded data removed]",
      "text/plain": [
       "Plot with title \"Housing Dataset Parameters and Coefficient of Determination Relationship\""
      ]
     },
     "metadata": {},
     "output_type": "display_data"
    }
   ],
   "source": [
    "#Set plot height and width\n",
    "options(repr.plot.width=5, repr.plot.height=5)\n",
    "\n",
    "#Using one graph\n",
    "par(mfrow=c(1,1))\n",
    "\n",
    "plot(c(1:13), full.summary$rsq, type=\"l\",\n",
    "     xlab='Number of Parameters', ylab='R-squared Value',\n",
    "     main='Housing Dataset Parameters and Coefficient of Determination Relationship', cex.main=0.7,\n",
    "     col='Red',ylim=range(c(full.summary$rsq)))\n",
    "\n",
    "#Emphasizing the R-squared values with circles on the values\n",
    "points(c(1:13), full.summary$rsq, pch=21, col='red', bg=0 )"
   ]
  },
  {
   "cell_type": "markdown",
   "id": "19b0a6ac",
   "metadata": {},
   "source": [
    "The more parameters that are added, the better the R-squared value will be. By examining this graph, we can pinpoint a good number of parameters to use to fit the best model. After 4 variables, there's minimal increase in the R-squared value. 5 to 7 parameters will most likely be the best fit. We opted for the best 5 variable model.\n",
    "\n",
    "Now, we must get the names of the variables for this model"
   ]
  },
  {
   "cell_type": "code",
   "execution_count": 6,
   "id": "01027513",
   "metadata": {},
   "outputs": [
    {
     "data": {
      "text/html": [
       "<ol class=list-inline>\n",
       "\t<li>'which'</li>\n",
       "\t<li>'rsq'</li>\n",
       "\t<li>'rss'</li>\n",
       "\t<li>'adjr2'</li>\n",
       "\t<li>'cp'</li>\n",
       "\t<li>'bic'</li>\n",
       "\t<li>'outmat'</li>\n",
       "\t<li>'obj'</li>\n",
       "</ol>\n"
      ],
      "text/latex": [
       "\\begin{enumerate*}\n",
       "\\item 'which'\n",
       "\\item 'rsq'\n",
       "\\item 'rss'\n",
       "\\item 'adjr2'\n",
       "\\item 'cp'\n",
       "\\item 'bic'\n",
       "\\item 'outmat'\n",
       "\\item 'obj'\n",
       "\\end{enumerate*}\n"
      ],
      "text/markdown": [
       "1. 'which'\n",
       "2. 'rsq'\n",
       "3. 'rss'\n",
       "4. 'adjr2'\n",
       "5. 'cp'\n",
       "6. 'bic'\n",
       "7. 'outmat'\n",
       "8. 'obj'\n",
       "\n",
       "\n"
      ],
      "text/plain": [
       "[1] \"which\"  \"rsq\"    \"rss\"    \"adjr2\"  \"cp\"     \"bic\"    \"outmat\" \"obj\"   "
      ]
     },
     "metadata": {},
     "output_type": "display_data"
    }
   ],
   "source": [
    "#Create the best 5 variable model\n",
    "regfit5 = regsubsets(MEDV~., data=house, nbest=1, nvmax=5, method='exhaustive')\n",
    "five.summary = summary(regfit5)\n",
    "\n",
    "#The following shows what possible values we can find. We're interested in \"which\"\n",
    "names(five.summary)"
   ]
  },
  {
   "cell_type": "code",
   "execution_count": 7,
   "id": "0312d5fd",
   "metadata": {},
   "outputs": [
    {
     "data": {
      "text/html": [
       "<dl class=dl-horizontal>\n",
       "\t<dt>(Intercept)</dt>\n",
       "\t\t<dd>TRUE</dd>\n",
       "\t<dt>CRIM</dt>\n",
       "\t\t<dd>FALSE</dd>\n",
       "\t<dt>ZN</dt>\n",
       "\t\t<dd>FALSE</dd>\n",
       "\t<dt>INDUS</dt>\n",
       "\t\t<dd>FALSE</dd>\n",
       "\t<dt>CHAS</dt>\n",
       "\t\t<dd>FALSE</dd>\n",
       "\t<dt>NOX</dt>\n",
       "\t\t<dd>TRUE</dd>\n",
       "\t<dt>RM</dt>\n",
       "\t\t<dd>TRUE</dd>\n",
       "\t<dt>AGE</dt>\n",
       "\t\t<dd>FALSE</dd>\n",
       "\t<dt>DIS</dt>\n",
       "\t\t<dd>TRUE</dd>\n",
       "\t<dt>RAD</dt>\n",
       "\t\t<dd>FALSE</dd>\n",
       "\t<dt>TAX</dt>\n",
       "\t\t<dd>FALSE</dd>\n",
       "\t<dt>PTRATIO</dt>\n",
       "\t\t<dd>TRUE</dd>\n",
       "\t<dt>B</dt>\n",
       "\t\t<dd>FALSE</dd>\n",
       "\t<dt>LSTAT</dt>\n",
       "\t\t<dd>TRUE</dd>\n",
       "</dl>\n"
      ],
      "text/latex": [
       "\\begin{description*}\n",
       "\\item[(Intercept)] TRUE\n",
       "\\item[CRIM] FALSE\n",
       "\\item[ZN] FALSE\n",
       "\\item[INDUS] FALSE\n",
       "\\item[CHAS] FALSE\n",
       "\\item[NOX] TRUE\n",
       "\\item[RM] TRUE\n",
       "\\item[AGE] FALSE\n",
       "\\item[DIS] TRUE\n",
       "\\item[RAD] FALSE\n",
       "\\item[TAX] FALSE\n",
       "\\item[PTRATIO] TRUE\n",
       "\\item[B] FALSE\n",
       "\\item[LSTAT] TRUE\n",
       "\\end{description*}\n"
      ],
      "text/markdown": [
       "(Intercept)\n",
       ":   TRUECRIM\n",
       ":   FALSEZN\n",
       ":   FALSEINDUS\n",
       ":   FALSECHAS\n",
       ":   FALSENOX\n",
       ":   TRUERM\n",
       ":   TRUEAGE\n",
       ":   FALSEDIS\n",
       ":   TRUERAD\n",
       ":   FALSETAX\n",
       ":   FALSEPTRATIO\n",
       ":   TRUEB\n",
       ":   FALSELSTAT\n",
       ":   TRUE\n",
       "\n"
      ],
      "text/plain": [
       "(Intercept)        CRIM          ZN       INDUS        CHAS         NOX \n",
       "       TRUE       FALSE       FALSE       FALSE       FALSE        TRUE \n",
       "         RM         AGE         DIS         RAD         TAX     PTRATIO \n",
       "       TRUE       FALSE        TRUE       FALSE       FALSE        TRUE \n",
       "          B       LSTAT \n",
       "      FALSE        TRUE "
      ]
     },
     "metadata": {},
     "output_type": "display_data"
    }
   ],
   "source": [
    "#\"True\" values show the 5 variables to use\n",
    "full.summary$which[5,]"
   ]
  },
  {
   "cell_type": "code",
   "execution_count": 8,
   "id": "02439ca6",
   "metadata": {},
   "outputs": [
    {
     "data": {
      "text/html": [
       "<dl class=dl-horizontal>\n",
       "\t<dt>(Intercept)</dt>\n",
       "\t\t<dd>37.4991961302374</dd>\n",
       "\t<dt>NOX</dt>\n",
       "\t\t<dd>-17.9965714905014</dd>\n",
       "\t<dt>RM</dt>\n",
       "\t\t<dd>4.16330739070575</dd>\n",
       "\t<dt>DIS</dt>\n",
       "\t\t<dd>-1.18466228301394</dd>\n",
       "\t<dt>PTRATIO</dt>\n",
       "\t\t<dd>-1.04577381846144</dd>\n",
       "\t<dt>LSTAT</dt>\n",
       "\t\t<dd>-0.581083599516122</dd>\n",
       "</dl>\n"
      ],
      "text/latex": [
       "\\begin{description*}\n",
       "\\item[(Intercept)] 37.4991961302374\n",
       "\\item[NOX] -17.9965714905014\n",
       "\\item[RM] 4.16330739070575\n",
       "\\item[DIS] -1.18466228301394\n",
       "\\item[PTRATIO] -1.04577381846144\n",
       "\\item[LSTAT] -0.581083599516122\n",
       "\\end{description*}\n"
      ],
      "text/markdown": [
       "(Intercept)\n",
       ":   37.4991961302374NOX\n",
       ":   -17.9965714905014RM\n",
       ":   4.16330739070575DIS\n",
       ":   -1.18466228301394PTRATIO\n",
       ":   -1.04577381846144LSTAT\n",
       ":   -0.581083599516122\n",
       "\n"
      ],
      "text/plain": [
       "(Intercept)         NOX          RM         DIS     PTRATIO       LSTAT \n",
       " 37.4991961 -17.9965715   4.1633074  -1.1846623  -1.0457738  -0.5810836 "
      ]
     },
     "metadata": {},
     "output_type": "display_data"
    }
   ],
   "source": [
    "#The coefficients for each variable can be examined through the following function\n",
    "coef(regfit.full,5)"
   ]
  },
  {
   "cell_type": "code",
   "execution_count": 9,
   "id": "ab540b42",
   "metadata": {},
   "outputs": [
    {
     "data": {
      "text/plain": [
       "\n",
       "Call:\n",
       "lm(formula = MEDV ~ NOX + RM + DIS + PTRATIO + LSTAT, data = house)\n",
       "\n",
       "Residuals:\n",
       "     Min       1Q   Median       3Q      Max \n",
       "-12.7765  -3.0186  -0.6481   1.9752  27.7625 \n",
       "\n",
       "Coefficients:\n",
       "             Estimate Std. Error t value Pr(>|t|)    \n",
       "(Intercept)  37.49920    4.61295   8.129 3.43e-15 ***\n",
       "NOX         -17.99657    3.26095  -5.519 5.49e-08 ***\n",
       "RM            4.16331    0.41203  10.104  < 2e-16 ***\n",
       "DIS          -1.18466    0.16842  -7.034 6.64e-12 ***\n",
       "PTRATIO      -1.04577    0.11352  -9.212  < 2e-16 ***\n",
       "LSTAT        -0.58108    0.04794 -12.122  < 2e-16 ***\n",
       "---\n",
       "Signif. codes:  0 '***' 0.001 '**' 0.01 '*' 0.05 '.' 0.1 ' ' 1\n",
       "\n",
       "Residual standard error: 4.994 on 500 degrees of freedom\n",
       "Multiple R-squared:  0.7081,\tAdjusted R-squared:  0.7052 \n",
       "F-statistic: 242.6 on 5 and 500 DF,  p-value: < 2.2e-16\n"
      ]
     },
     "metadata": {},
     "output_type": "display_data"
    },
    {
     "data": {
      "text/html": [
       "<table>\n",
       "<thead><tr><th></th><th scope=col>Estimate</th><th scope=col>Std. Error</th><th scope=col>t value</th><th scope=col>Pr(&gt;|t|)</th></tr></thead>\n",
       "<tbody>\n",
       "\t<tr><th scope=row>(Intercept)</th><td> 37.4991961 </td><td>4.61294984  </td><td>  8.129114  </td><td>3.426786e-15</td></tr>\n",
       "\t<tr><th scope=row>NOX</th><td>-17.9965715 </td><td>3.26095286  </td><td> -5.518808  </td><td>5.488148e-08</td></tr>\n",
       "\t<tr><th scope=row>RM</th><td>  4.1633074 </td><td>0.41202784  </td><td> 10.104432  </td><td>5.739143e-22</td></tr>\n",
       "\t<tr><th scope=row>DIS</th><td> -1.1846623 </td><td>0.16842410  </td><td> -7.033805  </td><td>6.642179e-12</td></tr>\n",
       "\t<tr><th scope=row>PTRATIO</th><td> -1.0457738 </td><td>0.11351844  </td><td> -9.212369  </td><td>8.800790e-19</td></tr>\n",
       "\t<tr><th scope=row>LSTAT</th><td> -0.5810836 </td><td>0.04793792  </td><td>-12.121586  </td><td>7.923392e-30</td></tr>\n",
       "</tbody>\n",
       "</table>\n"
      ],
      "text/latex": [
       "\\begin{tabular}{r|llll}\n",
       "  & Estimate & Std. Error & t value & Pr(>\\textbar{}t\\textbar{})\\\\\n",
       "\\hline\n",
       "\t(Intercept) &  37.4991961  & 4.61294984   &   8.129114   & 3.426786e-15\\\\\n",
       "\tNOX & -17.9965715  & 3.26095286   &  -5.518808   & 5.488148e-08\\\\\n",
       "\tRM &   4.1633074  & 0.41202784   &  10.104432   & 5.739143e-22\\\\\n",
       "\tDIS &  -1.1846623  & 0.16842410   &  -7.033805   & 6.642179e-12\\\\\n",
       "\tPTRATIO &  -1.0457738  & 0.11351844   &  -9.212369   & 8.800790e-19\\\\\n",
       "\tLSTAT &  -0.5810836  & 0.04793792   & -12.121586   & 7.923392e-30\\\\\n",
       "\\end{tabular}\n"
      ],
      "text/markdown": [
       "\n",
       "| <!--/--> | Estimate | Std. Error | t value | Pr(>|t|) |\n",
       "|---|---|---|---|---|\n",
       "| (Intercept) |  37.4991961  | 4.61294984   |   8.129114   | 3.426786e-15 |\n",
       "| NOX | -17.9965715  | 3.26095286   |  -5.518808   | 5.488148e-08 |\n",
       "| RM |   4.1633074  | 0.41202784   |  10.104432   | 5.739143e-22 |\n",
       "| DIS |  -1.1846623  | 0.16842410   |  -7.033805   | 6.642179e-12 |\n",
       "| PTRATIO |  -1.0457738  | 0.11351844   |  -9.212369   | 8.800790e-19 |\n",
       "| LSTAT |  -0.5810836  | 0.04793792   | -12.121586   | 7.923392e-30 |\n",
       "\n"
      ],
      "text/plain": [
       "            Estimate    Std. Error t value    Pr(>|t|)    \n",
       "(Intercept)  37.4991961 4.61294984   8.129114 3.426786e-15\n",
       "NOX         -17.9965715 3.26095286  -5.518808 5.488148e-08\n",
       "RM            4.1633074 0.41202784  10.104432 5.739143e-22\n",
       "DIS          -1.1846623 0.16842410  -7.033805 6.642179e-12\n",
       "PTRATIO      -1.0457738 0.11351844  -9.212369 8.800790e-19\n",
       "LSTAT        -0.5810836 0.04793792 -12.121586 7.923392e-30"
      ]
     },
     "metadata": {},
     "output_type": "display_data"
    }
   ],
   "source": [
    "#A deeper statistical outlook can be gathered through the summary() function\n",
    "mod = lm(formula = MEDV ~ NOX + RM + DIS + PTRATIO + LSTAT, data=house)\n",
    "summary(mod)\n",
    "\n",
    "#Dataframe that can be used to extract data easily if needed\n",
    "matrix = summary(mod)$coefficients\n",
    "matrix"
   ]
  },
  {
   "cell_type": "markdown",
   "id": "0cfe8662",
   "metadata": {},
   "source": [
    "Our significance level is .05; this means any p-value below this is determined to be statistically significant e.g the likelihood of this happening by chance is below 5%. The global F-test and the individual T-tests all show that the p-values are much lower than .05; therefore, we conclude that there's sufficient evidence that these variables, and the model itself, is a good predictor for the value of the median price.\n",
    "\n",
    "Let's examine more plots to see what else this model tells us."
   ]
  },
  {
   "cell_type": "code",
   "execution_count": 10,
   "id": "ea17ebf5",
   "metadata": {},
   "outputs": [
    {
     "data": {
      "image/png": "[encoded data removed]",
      "text/plain": [
       "Plot with title \"\""
      ]
     },
     "metadata": {},
     "output_type": "display_data"
    },
    {
     "data": {
      "image/png": "[encoded data removed]",
      "text/plain": [
       "Plot with title \"\""
      ]
     },
     "metadata": {},
     "output_type": "display_data"
    }
   ],
   "source": [
    "options(repr.plot.width=5, repr.plot.height=5)\n",
    "\n",
    "par(mfrow=c(1,1))\n",
    "\n",
    "#Residual plot and normal Q-Q plot\n",
    "plot(mod, which=1:2)"
   ]
  },
  {
   "cell_type": "markdown",
   "id": "dd9f076e",
   "metadata": {},
   "source": [
    "Ideally, we would want the red line to be horizontal. That would indicate linearity, while one that is not so randomly scattered indicates non-linearity. The red line shows the actual residual vs fitted relationship, which may be quite curved.\n",
    "\n",
    "For the Q-Q plot, we want to see the observations tightly along the line. Most of the observations are, but it starts to curve near the end of the graph.\n",
    "\n",
    "These two plots show some evidence that a higher order term for one of the parameters may enhance our model. "
   ]
  },
  {
   "cell_type": "markdown",
   "id": "a10a0d14",
   "metadata": {},
   "source": [
    "### K-nearest Neighbors Method"
   ]
  },
  {
   "cell_type": "markdown",
   "id": "698f5d39",
   "metadata": {},
   "source": [
    "This analysis focuses on the K-nearest neighbors method. We need to create our randomized training and testing data."
   ]
  },
  {
   "cell_type": "code",
   "execution_count": 11,
   "id": "4693ad9c",
   "metadata": {},
   "outputs": [
    {
     "name": "stderr",
     "output_type": "stream",
     "text": [
      "Warning message:\n",
      "\"package 'kknn' was built under R version 3.6.3\""
     ]
    }
   ],
   "source": [
    "#This package will allow access to k nearest neighbors\n",
    "library(kknn)"
   ]
  },
  {
   "cell_type": "code",
   "execution_count": 12,
   "id": "b40fc278",
   "metadata": {},
   "outputs": [
    {
     "data": {
      "text/html": [
       "<ol class=list-inline>\n",
       "\t<li>506</li>\n",
       "\t<li>2</li>\n",
       "</ol>\n"
      ],
      "text/latex": [
       "\\begin{enumerate*}\n",
       "\\item 506\n",
       "\\item 2\n",
       "\\end{enumerate*}\n"
      ],
      "text/markdown": [
       "1. 506\n",
       "2. 2\n",
       "\n",
       "\n"
      ],
      "text/plain": [
       "[1] 506   2"
      ]
     },
     "metadata": {},
     "output_type": "display_data"
    }
   ],
   "source": [
    "#Need total amount of rows\n",
    "n = nrow(house)\n",
    "\n",
    "#Variables to be tested and trained on\n",
    "x = 4*house$RM\n",
    "y = house$MEDV\n",
    "\n",
    "#Implementing the desired x's and y's in a dataframe\n",
    "dataframe = data.frame(x,y)\n",
    "\n",
    "#Sanity check to make sure everything is as expected\n",
    "dim(dataframe)"
   ]
  },
  {
   "cell_type": "markdown",
   "id": "903b72da",
   "metadata": {},
   "source": [
    "We don't only want to make our model based on the in-sample data. An effective model would be able to predict data outside of the given sample data. One solution is to split our data into two parts -- trained data and test data. Trained data will have about 75% of the observations, while the test data will have the reamining percentage. We're interested in the RMSE outside (outRMSE) of the training data. This is because the RMSE is a way to minimize the error and allows for more accurate predictions. the RMSE inside the training data will be used as a supplement to show how the two compare. The training data is essentially used as vital information for the test data that is created."
   ]
  },
  {
   "cell_type": "code",
   "execution_count": 13,
   "id": "c5c07ce4",
   "metadata": {},
   "outputs": [],
   "source": [
    "#Seed chosen to ensure randomization\n",
    "set.seed(435)\n",
    "\n",
    "#Train data. Roughly 75% chosen\n",
    "tr = sample(x=n, size=380, replace=FALSE)\n",
    "\n",
    "#dataframes corresponding to train and test data\n",
    "train = dataframe[tr,]\n",
    "test = dataframe[-tr,]\n",
    "\n",
    "#k values from 1 to 350\n",
    "kvec = 1:350\n",
    "nk = length(kvec)\n",
    "\n",
    "#using kmod, RMSE \"OUT\" of the training data\n",
    "outRMSE = rep(0,nk)\n",
    "\n",
    "#using kmodtr, RMSE \"IN\" the training data\n",
    "inRMSE = rep(0,nk)"
   ]
  },
  {
   "cell_type": "markdown",
   "id": "49e483df",
   "metadata": {},
   "source": [
    "The following for loops calculates the RMSE values given the value of k that is chosen. The plot afterwards shows the relationship between complexity and both RMSEs. The 2nd plot examines the hyperparameter k and the RMSE relationship."
   ]
  },
  {
   "cell_type": "code",
   "execution_count": 14,
   "id": "13970666",
   "metadata": {},
   "outputs": [],
   "source": [
    "for (i in kvec) {\n",
    "    kmodtr = kknn(y~x, train=train, test=train, k=i, kernel='rectangular')\n",
    "    min1 = sqrt(mean((train$y - kmodtr$fitted)**2))\n",
    "    inRMSE[i] = min1\n",
    "}\n",
    "\n",
    "for (i in kvec) {\n",
    "    kmod = kknn(y~x, train=train, test=test, k=i, kernel='rectangular')\n",
    "    min2 = sqrt(mean((test$y - kmod$fitted)**2))\n",
    "    outRMSE[i] = min2\n",
    "}"
   ]
  },
  {
   "cell_type": "code",
   "execution_count": 15,
   "id": "3c4e3630",
   "metadata": {},
   "outputs": [
    {
     "data": {
      "image/png": "[encoded data removed]",
      "text/plain": [
       "plot without title"
      ]
     },
     "metadata": {},
     "output_type": "display_data"
    }
   ],
   "source": [
    "#Overall plot size\n",
    "options(repr.plot.width=5, repr.plot.height=5)\n",
    "\n",
    "#Setting margins and how many plot should be included\n",
    "par(mfrow=c(1,1),mar=c(5,5,5,5))\n",
    "\n",
    "plot(log(1/kvec), outRMSE, type=\"l\",\n",
    "    ylab = 'outRMSE and inRMSE', xlab = 'Complexity (1/log(k))',\n",
    "     col = 'green', ylim=range(3:10))\n",
    "lines(log(1/kvec), inRMSE, col='red')\n",
    "legend(x = 'topleft',\n",
    "      legend = c('test RMSE (out)', 'train RMSE (in)'),\n",
    "      col = c('green', 'red'),\n",
    "      lwd = 3,          #linewidth\n",
    "      bty = 'n',        #boundary type for legend\n",
    "      lty = c(1,1),     #line type\n",
    "      cex=.8, pt.cex=1  #Changing legend size\n",
    "      )\n",
    "\n"
   ]
  },
  {
   "cell_type": "code",
   "execution_count": 16,
   "id": "276f0846",
   "metadata": {},
   "outputs": [
    {
     "data": {
      "image/png": "[encoded data removed]",
      "text/plain": [
       "plot without title"
      ]
     },
     "metadata": {},
     "output_type": "display_data"
    }
   ],
   "source": [
    "options(repr.plot.width=5, repr.plot.height=5)\n",
    "\n",
    "par(mfrow=c(1,1),mar=c(5,5,5,5))\n",
    "\n",
    "plot(kvec, outRMSE, type=\"l\",\n",
    "    ylab = 'outRMSE and inRMSE', xlab = 'k',\n",
    "     col = 'green', ylim=range(3:10))\n",
    "lines(kvec, inRMSE, col='red')\n",
    "legend(x = 'topleft',\n",
    "      legend = c('test RMSE (out)', 'train RMSE (in)'),\n",
    "      col = c('green', 'red'),\n",
    "      lwd = 3,\n",
    "      bty = 'n',\n",
    "      lty = c(1,1),\n",
    "      cex=.8, pt.cex=1)"
   ]
  },
  {
   "cell_type": "code",
   "execution_count": 17,
   "id": "3709cd75",
   "metadata": {
    "scrolled": true
   },
   "outputs": [
    {
     "data": {
      "text/html": [
       "43"
      ],
      "text/latex": [
       "43"
      ],
      "text/markdown": [
       "43"
      ],
      "text/plain": [
       "[1] 43"
      ]
     },
     "metadata": {},
     "output_type": "display_data"
    },
    {
     "data": {
      "text/html": [
       "-3.76120011569356"
      ],
      "text/latex": [
       "-3.76120011569356"
      ],
      "text/markdown": [
       "-3.76120011569356"
      ],
      "text/plain": [
       "[1] -3.7612"
      ]
     },
     "metadata": {},
     "output_type": "display_data"
    }
   ],
   "source": [
    "#The best value for hyperparameter k\n",
    "kbest = which.min(outRMSE)\n",
    "kbest\n",
    "\n",
    "#The complexity that should be associated with RM\n",
    "log(1/kbest)"
   ]
  },
  {
   "cell_type": "markdown",
   "id": "e2af1c01",
   "metadata": {},
   "source": [
    "Now we plot the results."
   ]
  },
  {
   "cell_type": "code",
   "execution_count": 19,
   "id": "1468bc8e",
   "metadata": {},
   "outputs": [
    {
     "data": {
      "image/png": "[encoded data removed]",
      "text/plain": [
       "Plot with title \"Relationshihp Rooms per Dwelling vs Median House Value\""
      ]
     },
     "metadata": {},
     "output_type": "display_data"
    }
   ],
   "source": [
    "#Sort the RM values\n",
    "testData = data.frame(x=sort(dataframe$x))\n",
    "\n",
    "#Gather the index from the kvec vector to use as our hyperparameter\n",
    "kbest = kknn(y~x, dataframe, testData, k=kvec[which.min(outRMSE)], kernel='rectangular')\n",
    "\n",
    "plot(dataframe, pch=16, col=rgb(0,0,0,0.1), \n",
    "     xlab = 'Average Rooms per Dwelling Adjusted', \n",
    "     ylab='Median House Value in $1000s',\n",
    "     main = 'Relationshihp Rooms per Dwelling vs Median House Value', \n",
    "     cex.main=.8\n",
    "    )\n",
    "\n",
    "lines(testData$x, kbest$fitted, col = 'green')"
   ]
  },
  {
   "cell_type": "markdown",
   "id": "a1fe7cd3",
   "metadata": {},
   "source": [
    "The best ***k*** value to use according to the test data is 43. We should tune our hyperparameter to this in order to produce the best model for ***RM*** and ***MEDV***. In the middle, the model shows the most linearity while the edges seem to imply no correlation since they are nearly horizontal. "
   ]
  },
  {
   "cell_type": "markdown",
   "id": "b4729dc2",
   "metadata": {},
   "source": [
    "### Concluding Remarks"
   ]
  },
  {
   "cell_type": "markdown",
   "id": "26a6b91e",
   "metadata": {},
   "source": [
    "For the first analysis, the model strongly suggests that more parameters should be of a higher order term based on the residual plot. Consequently, an interaction between some terms may be present as well. It may be of interest to perform followups using SAS, and examining the scatterplots of individual variables may prove useful as well. If it's the case that a higher order term is more significant, further testing with that variable among the others may have to be conducted.\n",
    "\n",
    "For the second analysis, observations near the minimum and maximum have a constant relationship, but the larger part of the data in the center showed a strong form with a positive shape. This machine learning method is more nuanced in that we use the model with the hyperparameter that gives us the least amount of variation, rather than just a simple linear regression model that would have had a higher RMSE value. This model demostrates how normal simple linear regression would not be as accurate for out of sample predictions. This machine learning method is more nuanced since it takes data from the nearest neighbors, so it's not as biased as a simple linear regression model. "
   ]
  },
  {
   "cell_type": "markdown",
   "id": "b09587b1",
   "metadata": {},
   "source": [
    "### Appendix"
   ]
  },
  {
   "cell_type": "markdown",
   "id": "d3c633e2",
   "metadata": {},
   "source": [
    "Link of the data: https://www.kaggle.com/datasets/fedesoriano/the-boston-houseprice-data"
   ]
  }
 ],
 "metadata": {
  "kernelspec": {
   "display_name": "R",
   "language": "R",
   "name": "ir"
  },
  "language_info": {
   "codemirror_mode": "r",
   "file_extension": ".r",
   "mimetype": "text/x-r-source",
   "name": "R",
   "pygments_lexer": "r",
   "version": "3.6.1"
  }
 },
 "nbformat": 4,
 "nbformat_minor": 5
}
